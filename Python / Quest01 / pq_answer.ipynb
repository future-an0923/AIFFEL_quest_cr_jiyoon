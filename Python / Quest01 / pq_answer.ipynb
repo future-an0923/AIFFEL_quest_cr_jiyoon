{
  "cells": [
    {
      "cell_type": "markdown",
      "metadata": {
        "id": "view-in-github",
        "colab_type": "text"
      },
      "source": [
        "<a href=\"https://colab.research.google.com/github/jiyoon-park97/AIFFEL_quest_cr/blob/main/Python%20/%20Quest01%20/%20pq_answer.ipynb\" target=\"_parent\"><img src=\"https://colab.research.google.com/assets/colab-badge.svg\" alt=\"Open In Colab\"/></a>"
      ]
    },
    {
      "cell_type": "markdown",
      "metadata": {
        "id": "97Eol4kLfvLq"
      },
      "source": [
        "1. 단어 입력 받음\n",
        "2. 입력 받은 단어를 뒤집어서 출력\n",
        "3. 입력 받은 단어가 회문인지 아닌지 확인하여 출력  \n",
        "\n",
        "출력 예시\n",
        "===\n",
        "입력값 :\n",
        "우성우\n",
        "\n",
        "출력값 :  \n",
        "뒤집힌 단어는: 우성우  \n",
        "입력된 단어는 회문입니다."
      ]
    },
    {
      "cell_type": "markdown",
      "source": [
        "회고\n",
        "\n",
        "<진행 순서>\n",
        "1. 단어 입력창 생성\n",
        "2. 입력된 단어 뒤집기\n",
        "3. 입력된 단어와 뒤집힌 단어가 동일한지 확인\n",
        "4. 동일할 경우, \"입력된 단어는 회문입니다.\" 출력\n",
        "5. 동일하지 않을 경우, \"입력된 단어는 회문이 아닙니다.\" 출력\n",
        "6. 반복되도록 while문 추가\n",
        "7. 입력 횟수 제한을 위해 count 변수 추가\n",
        "8. 최대 5번 입력 후 종료되도록 마무리"
      ],
      "metadata": {
        "id": "f3imzLEH5ZpA"
      }
    },
    {
      "cell_type": "code",
      "execution_count": null,
      "metadata": {
        "colab": {
          "base_uri": "https://localhost:8080/"
        },
        "id": "TUIcu9DsXUcC",
        "outputId": "1dfc1de4-66c3-44af-aacf-24e61dab1967"
      },
      "outputs": [
        {
          "output_type": "stream",
          "name": "stdout",
          "text": [
            "단어를 입력하세요.: 기러기\n",
            "뒤집힌 단어는: 기러기\n",
            "입력된 단어는 회문입니다.\n",
            "*************************\n",
            "단어를 입력하세요.: 우영우\n",
            "뒤집힌 단어는: 우영우\n",
            "입력된 단어는 회문입니다.\n",
            "*************************\n",
            "단어를 입력하세요.: 코레일\n",
            "뒤집힌 단어는: 일레코\n",
            "입력된 단어는 회문이 아닙니다.\n",
            "*************************\n",
            "단어를 입력하세요.: 역삼역\n",
            "뒤집힌 단어는: 역삼역\n",
            "입력된 단어는 회문입니다.\n",
            "*************************\n",
            "단어를 입력하세요.: 우영우김밥\n",
            "뒤집힌 단어는: 밥김우영우\n",
            "입력된 단어는 회문이 아닙니다.\n",
            "*************************\n",
            "다섯 번의 기회를 모두 쓰셨습니다.\n"
          ]
        }
      ],
      "source": [
        "count = 1 #입력시도 횟수를 기록\n",
        "while count<=5: #최대 5번 입력 가능\n",
        "    word = input ('단어를 입력하세요.: ')\n",
        "    print('뒤집힌 단어는:', word[::-1]) #입력된 단어를 뒤집어서 출력\n",
        "    if word == word[::-1]: #입력한 단어와 뒤집힌 단어가 같은지 확인\n",
        "        print('입력된 단어는 회문입니다.') #입력한 단어와 뒤집힌 단어가 같을 경우 출력문장\n",
        "    else:\n",
        "        print('입력된 단어는 회문이 아닙니다.') #입력한 단어와 뒤집힌 단어가 다를 경우 출력문장\n",
        "    count=count+1 #입력 시도 후 count 횟수 1회 증가\n",
        "    print('*'*25) #구분선\n",
        "print('다섯 번의 기회를 모두 쓰셨습니다.') #최대 5번 입력 시도 후 출력문장"
      ]
    }
  ],
  "metadata": {
    "colab": {
      "provenance": [],
      "include_colab_link": true
    },
    "kernelspec": {
      "display_name": "Python 3",
      "name": "python3"
    },
    "language_info": {
      "name": "python"
    }
  },
  "nbformat": 4,
  "nbformat_minor": 0
}