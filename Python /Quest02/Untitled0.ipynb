{
  "nbformat": 4,
  "nbformat_minor": 0,
  "metadata": {
    "colab": {
      "provenance": [],
      "include_colab_link": true
    },
    "kernelspec": {
      "name": "python3",
      "display_name": "Python 3"
    },
    "language_info": {
      "name": "python"
    }
  },
  "cells": [
    {
      "cell_type": "markdown",
      "metadata": {
        "id": "view-in-github",
        "colab_type": "text"
      },
      "source": [
        "<a href=\"https://colab.research.google.com/github/jiyoon-park97/AIFFEL_quest_cr/blob/main/Python%20/Quest02/Untitled0.ipynb\" target=\"_parent\"><img src=\"https://colab.research.google.com/assets/colab-badge.svg\" alt=\"Open In Colab\"/></a>"
      ]
    },
    {
      "cell_type": "code",
      "execution_count": null,
      "metadata": {
        "colab": {
          "base_uri": "https://localhost:8080/"
        },
        "id": "fpoIn3Lr0UJf",
        "outputId": "fecd7dae-9546-4b9f-85ad-d04e2e24c78f"
      },
      "outputs": [
        {
          "output_type": "stream",
          "name": "stdout",
          "text": [
            "Mounted at /content/drive\n"
          ]
        }
      ],
      "source": [
        "from google.colab import drive\n",
        "drive.mount('/content/drive') #구글 드라이브랑 구글 코랩 연결"
      ]
    },
    {
      "cell_type": "code",
      "source": [
        "##txt파일 불러오기##\n",
        "data = open('/content/drive/MyDrive/Avengers.txt', 'r', encoding = 'utf-8')\n",
        "contents = data.read()\n",
        "lowerCont = contents.lower()\n",
        "\n",
        "##글자, 숫자를 제외하고 제거함##\n",
        "import re #정규 표현식을 사용하기 위해 필요한 도구를 가져오는 것\n",
        "filtered_contents1 = re.sub('[^\\w\\d]',' ', lowerCont)\n",
        "\n",
        "# print(filtered_contents1)\n",
        "# filtered_contents1,replace('  ',' ')\n",
        "\n",
        "##공백 단위로 단어 리스트 쪼개기##\n",
        "splittedCont = filtered_contents1.split(' ')\n",
        "\n",
        "##공백을 없애기 위한 시행착오들##\n",
        "#print(splittedCont)\n",
        "# removedCont = splittedCont.remove('\\n')   # None 출력됨\n",
        "# print(removedCont)\n",
        "# while ' ' in splittedCont:\n",
        "#   splittedCont.remove(' ')\n",
        "\n",
        "##리스트에서 공백 제거##\n",
        "remove_things = [x for x in splittedCont if x != '']\n",
        "# print(remove_things)\n",
        "\n",
        "##글자 빈도수 나타내기##\n",
        "from collections import Counter\n",
        "countedConts = Counter(remove_things)\n",
        "#print(countedConts)\n",
        "\n",
        "## 딕셔너리 형태로 나타내기##\n",
        "countedConts = dict(countedConts)\n",
        "# print(countedConts)\n",
        "#print(type(countedConts))\n",
        "\n",
        "##내림차순 정렬##\n",
        "sortedConts = sorted(countedConts.items(), key= lambda item:item[1], reverse=True)    # lamda를 key로 지정해 value 순서대로 정렬 // item[1]은 value를 의미\n",
        "#print(type(sortedConts))\n",
        "dictConts = dict(sortedConts)\n",
        "#print(dictConts)\n",
        "# enConts = dict(enumerate(sortedConts))\n",
        "# print(enConts)\n",
        "\n",
        "##정렬 순서대로 정수 인덱스 부여##\n",
        "n = 0\n",
        "for key in dictConts:\n",
        "    dictConts.update({key:n})\n",
        "    n = n + 1\n",
        "#print(dictConts)\n",
        "\n",
        "##텍스트를 input()으로 입력받아서 정수를 return하는 함수를 만든다.##\n",
        "def encoder():\n",
        "  word = input('입력하세요: ')\n",
        "  anotherSplitted = word.split(' ')\n",
        "  for w in anotherSplitted:\n",
        "    if w in dictConts:\n",
        "      print(dictConts.get(w))\n",
        "\n",
        "\n",
        "encoder()\n",
        "\n",
        "\n",
        "\n",
        "\n",
        "##시행착오##\n",
        "# .lstrip()\n",
        "# .rstrip()\n",
        "#print(splittedCont)\n",
        "# print(dictConts)\n",
        "# print(type(remove_things))\n",
        "# print(countedConts)\n",
        "#print(type(countedConts))\n",
        "\n",
        "#dict1 = {k:v for k, v in countedConts}\n",
        "#print(dict1)"
      ],
      "metadata": {
        "id": "C3t3VdQ11KX5",
        "colab": {
          "base_uri": "https://localhost:8080/"
        },
        "outputId": "557ac64c-50f4-4420-bcda-61fe8bee7919"
      },
      "execution_count": null,
      "outputs": [
        {
          "output_type": "stream",
          "name": "stdout",
          "text": [
            "입력하세요: i am a boy\n",
            "2\n",
            "121\n",
            "3\n",
            "543\n"
          ]
        }
      ]
    },
    {
      "cell_type": "markdown",
      "source": [
        "박지윤\n",
        " - 시행착오를 정말 많이 했다. 리스트 형태로는 안 나오지만 그래도 어떻게든 하긴 했다! 예쁘게 봐주셨으면 좋겠다. 헤헤.....\n",
        "정원규\n",
        " - 생각보다 시간도 오래 걸리고 함수에 대해 아는게 없어서 공부를 조금 더 해야 할 것 같다."
      ],
      "metadata": {
        "id": "zxS0myi_3-Gk"
      }
    }
  ]
}